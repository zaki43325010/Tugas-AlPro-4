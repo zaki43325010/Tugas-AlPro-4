{
  "nbformat": 4,
  "nbformat_minor": 0,
  "metadata": {
    "colab": {
      "provenance": [],
      "authorship_tag": "ABX9TyPtBvt5YF3lRt461gC4CGPa",
      "include_colab_link": true
    },
    "kernelspec": {
      "name": "python3",
      "display_name": "Python 3"
    },
    "language_info": {
      "name": "python"
    }
  },
  "cells": [
    {
      "cell_type": "markdown",
      "metadata": {
        "id": "view-in-github",
        "colab_type": "text"
      },
      "source": [
        "<a href=\"https://colab.research.google.com/github/zaki43325010/Tugas-AlPro-4/blob/main/Penugasan.ipynb\" target=\"_parent\"><img src=\"https://colab.research.google.com/assets/colab-badge.svg\" alt=\"Open In Colab\"/></a>"
      ]
    },
    {
      "cell_type": "markdown",
      "source": [
        "#1.\tMenampilkan Deret Angka"
      ],
      "metadata": {
        "id": "HKV2-Os4PXTq"
      }
    },
    {
      "cell_type": "code",
      "execution_count": null,
      "metadata": {
        "colab": {
          "base_uri": "https://localhost:8080/"
        },
        "id": "81MlQZs8POeJ",
        "outputId": "ec5723a3-6d30-4921-dd35-41ac235c4445"
      },
      "outputs": [
        {
          "output_type": "stream",
          "name": "stdout",
          "text": [
            "3\n",
            "6\n",
            "9\n",
            "12\n",
            "15\n",
            "18\n",
            "21\n",
            "24\n",
            "27\n",
            "30\n"
          ]
        }
      ],
      "source": [
        "for i in range(1,31):\n",
        "  if i%3==0:\n",
        "    print(i)"
      ]
    },
    {
      "cell_type": "markdown",
      "source": [
        "#2.\tHitung Faktorial"
      ],
      "metadata": {
        "id": "yMlc-TPnQwbm"
      }
    },
    {
      "cell_type": "code",
      "source": [
        "while True:\n",
        "  angka= int(input(\"Masukkan angka: \"))\n",
        "  if angka>0:\n",
        "    break\n",
        "  else:\n",
        "    print(\"Angka harus lebih dari 0\")\n",
        "faktorial=1\n",
        "for i in range(1, angka+1):\n",
        "  faktorial*=i\n",
        "print(\"Faktorial dari\",angka,\"adalah\",faktorial)"
      ],
      "metadata": {
        "colab": {
          "base_uri": "https://localhost:8080/"
        },
        "id": "YgoQNx5cQ0lV",
        "outputId": "ff355a84-3447-43c2-c8e8-04ea603b233e"
      },
      "execution_count": null,
      "outputs": [
        {
          "output_type": "stream",
          "name": "stdout",
          "text": [
            "Masukkan angka: 0\n",
            "Angka harus lebih dari 0\n",
            "Masukkan angka: -4\n",
            "Angka harus lebih dari 0\n",
            "Masukkan angka: 5\n",
            "Faktorial dari 5 adalah 120\n"
          ]
        }
      ]
    },
    {
      "cell_type": "markdown",
      "source": [
        "#3.\tPola Segitiga Terbalik"
      ],
      "metadata": {
        "id": "22oQ_IZGWuKz"
      }
    },
    {
      "cell_type": "code",
      "source": [
        "for i in range(5,0,-1):\n",
        "  for j in range(i):\n",
        "    print(\"*\", end=\"\")\n",
        "  print()"
      ],
      "metadata": {
        "colab": {
          "base_uri": "https://localhost:8080/"
        },
        "id": "WTVZAbN9W6-_",
        "outputId": "d01ae81d-de2e-433e-f02e-6bc00d91925c"
      },
      "execution_count": null,
      "outputs": [
        {
          "output_type": "stream",
          "name": "stdout",
          "text": [
            "*****\n",
            "****\n",
            "***\n",
            "**\n",
            "*\n"
          ]
        }
      ]
    },
    {
      "cell_type": "markdown",
      "source": [
        "#4.\tCari Bilangan Prima dengan Break"
      ],
      "metadata": {
        "id": "LZbKyFIud4Y6"
      }
    },
    {
      "cell_type": "code",
      "source": [
        "for i in range(2, 21):\n",
        "  prima = True\n",
        "  for j in range(2, i):\n",
        "    if i % j == 0:\n",
        "      prima = False\n",
        "      break\n",
        "  if prima:\n",
        "    print(i, \"adalah bilangan prima\")"
      ],
      "metadata": {
        "colab": {
          "base_uri": "https://localhost:8080/"
        },
        "id": "6pKJnMNed3oH",
        "outputId": "973977e3-89e9-4d1a-a4dc-a86de6c2387c"
      },
      "execution_count": null,
      "outputs": [
        {
          "output_type": "stream",
          "name": "stdout",
          "text": [
            "2 adalah bilangan prima\n",
            "3 adalah bilangan prima\n",
            "5 adalah bilangan prima\n",
            "7 adalah bilangan prima\n",
            "11 adalah bilangan prima\n",
            "13 adalah bilangan prima\n",
            "17 adalah bilangan prima\n",
            "19 adalah bilangan prima\n"
          ]
        }
      ]
    },
    {
      "cell_type": "markdown",
      "source": [
        "#5.\tTampilkan Hanya Bilangan Genap dengan Continue"
      ],
      "metadata": {
        "id": "2WJ5CLDe3rA4"
      }
    },
    {
      "cell_type": "code",
      "source": [
        "for i in range(1,21):\n",
        "  if i%2==1:\n",
        "    continue\n",
        "  print(i)"
      ],
      "metadata": {
        "colab": {
          "base_uri": "https://localhost:8080/"
        },
        "id": "fcoUIMGy3rVq",
        "outputId": "5253032b-c80e-48c3-a11d-fbababa78149"
      },
      "execution_count": 4,
      "outputs": [
        {
          "output_type": "stream",
          "name": "stdout",
          "text": [
            "2\n",
            "4\n",
            "6\n",
            "8\n",
            "10\n",
            "12\n",
            "14\n",
            "16\n",
            "18\n",
            "20\n"
          ]
        }
      ]
    },
    {
      "cell_type": "markdown",
      "source": [
        "#6.\tIterasi Dictionary Mahasiswa"
      ],
      "metadata": {
        "id": "z2h3DGJX4vli"
      }
    },
    {
      "cell_type": "code",
      "source": [
        "data={\"Nama\":\"Budi\",\"Umur\":21,\"Prodi\":\"Teknik Komputer\"}\n",
        "for k, v in data.items():\n",
        "  print(k,\":\",v)"
      ],
      "metadata": {
        "colab": {
          "base_uri": "https://localhost:8080/"
        },
        "id": "lJekR1yb42kP",
        "outputId": "2ce714a5-7540-4f84-8034-7614ce417abc"
      },
      "execution_count": 6,
      "outputs": [
        {
          "output_type": "stream",
          "name": "stdout",
          "text": [
            "Nama : Budi\n",
            "Umur : 21\n",
            "Prodi : Teknik Komputer\n"
          ]
        }
      ]
    },
    {
      "cell_type": "markdown",
      "source": [
        "#7.\tEnumerate Daftar Barang"
      ],
      "metadata": {
        "id": "ESngkYIr4wvq"
      }
    },
    {
      "cell_type": "code",
      "source": [
        "daftar=[\"Buku\",\"Pulpen\",\"Tas\"]\n",
        "for i, nama in enumerate(daftar, start=1):\n",
        "  print(i, nama)"
      ],
      "metadata": {
        "colab": {
          "base_uri": "https://localhost:8080/"
        },
        "id": "2nO32vkE5K1Y",
        "outputId": "c58e8604-4f8e-4222-9032-c64764bded64"
      },
      "execution_count": 7,
      "outputs": [
        {
          "output_type": "stream",
          "name": "stdout",
          "text": [
            "1 Buku\n",
            "2 Pulpen\n",
            "3 Tas\n"
          ]
        }
      ]
    },
    {
      "cell_type": "markdown",
      "source": [
        "#8.\tStudi Kasus – Kasir Diskon"
      ],
      "metadata": {
        "id": "gzTU1VBR4z7O"
      }
    },
    {
      "cell_type": "code",
      "source": [
        "total=0\n",
        "while True:\n",
        "  barang=input(\"Masukkan nama barang ('selesai' untuk berhenti): \")\n",
        "  if barang.lower()==\"selesai\":\n",
        "    break\n",
        "  harga=float(input(f\"Masukkan harga barang: \"))\n",
        "  jumlah=int(input(f\"Masukkan jumlah barang: \"))\n",
        "  subtotal=harga*jumlah\n",
        "  total+=subtotal\n",
        "  if total>=200000:\n",
        "    diskon=0.1\n",
        "  else:\n",
        "    diskon = 0.0\n",
        "  bayar=total*(1-diskon)\n",
        "print(\"\\n====Struk Pembayaran====\")\n",
        "print(f\"Total  Belanja: {total}\")\n",
        "print(f\"Diskon: {diskon*100}%\")\n",
        "print(f\"Total Bayar: {bayar}\")"
      ],
      "metadata": {
        "colab": {
          "base_uri": "https://localhost:8080/"
        },
        "id": "Oypwga8V5LRu",
        "outputId": "59461906-d0d6-4914-ca40-e51721e5c59c"
      },
      "execution_count": 12,
      "outputs": [
        {
          "output_type": "stream",
          "name": "stdout",
          "text": [
            "Masukkan nama barang ('selesai' untuk berhenti): iphone 17 pro max\n",
            "Masukkan harga barang: 20000000\n",
            "Masukkan jumlah barang: 5\n",
            "Masukkan nama barang ('selesai' untuk berhenti): selesai\n",
            "\n",
            "====Struk Pembayaran====\n",
            "Total  Belanja: 100000000.0\n",
            "Diskon: 10.0%\n",
            "Total Bayar: 90000000.0\n"
          ]
        }
      ]
    }
  ]
}
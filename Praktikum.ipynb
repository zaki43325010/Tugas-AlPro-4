{
  "nbformat": 4,
  "nbformat_minor": 0,
  "metadata": {
    "colab": {
      "provenance": [],
      "authorship_tag": "ABX9TyMeuRF1JbonW8bT75fr6XOG",
      "include_colab_link": true
    },
    "kernelspec": {
      "name": "python3",
      "display_name": "Python 3"
    },
    "language_info": {
      "name": "python"
    }
  },
  "cells": [
    {
      "cell_type": "markdown",
      "metadata": {
        "id": "view-in-github",
        "colab_type": "text"
      },
      "source": [
        "<a href=\"https://colab.research.google.com/github/zaki43325010/Tugas-AlPro-4/blob/main/Praktikum.ipynb\" target=\"_parent\"><img src=\"https://colab.research.google.com/assets/colab-badge.svg\" alt=\"Open In Colab\"/></a>"
      ]
    },
    {
      "cell_type": "markdown",
      "source": [
        "#Praktikum 01 – Perulangan For dengan Range"
      ],
      "metadata": {
        "id": "4vRnhRzhCzcw"
      }
    },
    {
      "cell_type": "code",
      "source": [
        "for i in range(1,6):\n",
        "  print(i)"
      ],
      "metadata": {
        "colab": {
          "base_uri": "https://localhost:8080/"
        },
        "id": "siwfyXkSCzFQ",
        "outputId": "2ea3f0ae-3921-4d47-90a2-a8503a137583"
      },
      "execution_count": 1,
      "outputs": [
        {
          "output_type": "stream",
          "name": "stdout",
          "text": [
            "1\n",
            "2\n",
            "3\n",
            "4\n",
            "5\n"
          ]
        }
      ]
    },
    {
      "cell_type": "markdown",
      "source": [
        "#Praktikum 02 – Perulangan While"
      ],
      "metadata": {
        "id": "OK6qL49MDFV9"
      }
    },
    {
      "cell_type": "code",
      "source": [
        "n= int(input(\"Masukkan angka: \"))\n",
        "while n>0:\n",
        "  print(n)\n",
        "  n-=1"
      ],
      "metadata": {
        "colab": {
          "base_uri": "https://localhost:8080/"
        },
        "id": "tlOzQnvZDA_K",
        "outputId": "e38545e0-0922-4ec6-fc11-66858acee845"
      },
      "execution_count": 24,
      "outputs": [
        {
          "output_type": "stream",
          "name": "stdout",
          "text": [
            "Masukkan angka: 5\n",
            "5\n",
            "4\n",
            "3\n",
            "2\n",
            "1\n"
          ]
        }
      ]
    },
    {
      "cell_type": "markdown",
      "source": [
        "#Praktikum 03 – Nested Loop (Segitiga Bintang)"
      ],
      "metadata": {
        "id": "_pFyWLB8DxSB"
      }
    },
    {
      "cell_type": "code",
      "execution_count": 5,
      "metadata": {
        "colab": {
          "base_uri": "https://localhost:8080/"
        },
        "id": "LaNmf6rxB2_i",
        "outputId": "922ef98f-5d1b-497f-876d-842cbcfba947"
      },
      "outputs": [
        {
          "output_type": "stream",
          "name": "stdout",
          "text": [
            "*\n",
            "**\n",
            "***\n",
            "****\n",
            "*****\n"
          ]
        }
      ],
      "source": [
        "for i in range(1,6):\n",
        "  for j in range(i):\n",
        "    print(\"*\", end=\"\")\n",
        "  print()"
      ]
    },
    {
      "cell_type": "markdown",
      "source": [
        "#Praktikum 04 – Break dan Continue"
      ],
      "metadata": {
        "id": "FAAV6fLIE2jt"
      }
    },
    {
      "cell_type": "code",
      "source": [
        "for i in range(1,11):\n",
        "  if i==5:\n",
        "    print(\"Angka 5 ditemukan\")\n",
        "    break"
      ],
      "metadata": {
        "colab": {
          "base_uri": "https://localhost:8080/"
        },
        "id": "52tGt-8EE4me",
        "outputId": "4ef445cc-b838-478c-ea58-98b42966e180"
      },
      "execution_count": 6,
      "outputs": [
        {
          "output_type": "stream",
          "name": "stdout",
          "text": [
            "Angka 5 ditemukan\n"
          ]
        }
      ]
    },
    {
      "cell_type": "code",
      "source": [
        "for i in range(1,6):\n",
        "  if i%2==1:\n",
        "    continue\n",
        "  print(i)"
      ],
      "metadata": {
        "colab": {
          "base_uri": "https://localhost:8080/"
        },
        "id": "NdmDgqsZFaMA",
        "outputId": "3fc17d02-6869-4cb0-8022-27e7e959bb29"
      },
      "execution_count": 25,
      "outputs": [
        {
          "output_type": "stream",
          "name": "stdout",
          "text": [
            "2\n",
            "4\n"
          ]
        }
      ]
    },
    {
      "cell_type": "markdown",
      "source": [
        "#Praktikum 05 – For pada Dictionary"
      ],
      "metadata": {
        "id": "PnoRiWsaFzJ3"
      }
    },
    {
      "cell_type": "code",
      "source": [
        "data = {\"Nama\":\"Budi\", \"Umur\":20, \"Prodi\":\"TRK\"}\n",
        "for k, v in data.items():\n",
        "  print(k, \":\", v)"
      ],
      "metadata": {
        "colab": {
          "base_uri": "https://localhost:8080/"
        },
        "id": "GOz84N3nGGtg",
        "outputId": "8fc33060-8d28-468b-c301-6e496f8d0773"
      },
      "execution_count": 14,
      "outputs": [
        {
          "output_type": "stream",
          "name": "stdout",
          "text": [
            "Nama : Budi\n",
            "Umur : 20\n",
            "Prodi : TRK\n"
          ]
        }
      ]
    },
    {
      "cell_type": "markdown",
      "source": [
        "#Praktikum 06 – For dengan Enumerate"
      ],
      "metadata": {
        "id": "GXTvEVdcHPf2"
      }
    },
    {
      "cell_type": "code",
      "source": [
        "daftar=[\"Andi\",\"Budi\",\"Cici\"]\n",
        "for i, nama in enumerate(daftar, start=1):\n",
        "  print(i, nama)"
      ],
      "metadata": {
        "colab": {
          "base_uri": "https://localhost:8080/"
        },
        "id": "PCuApLNcHYBX",
        "outputId": "48a4835a-f161-41a4-bc4f-0066e7f9b7c4"
      },
      "execution_count": 15,
      "outputs": [
        {
          "output_type": "stream",
          "name": "stdout",
          "text": [
            "1 Andi\n",
            "2 Budi\n",
            "3 Cici\n"
          ]
        }
      ]
    },
    {
      "cell_type": "markdown",
      "source": [
        "#Praktikum 07 – Studi Kasus: Program Kasir Multi-Item"
      ],
      "metadata": {
        "id": "UOiDNIroHvde"
      }
    },
    {
      "cell_type": "code",
      "source": [
        "total=0\n",
        "while True:\n",
        "  barang=input(\"Masukkan nama barang (ketik 'selesai' untuk berhenti): \")\n",
        "  if barang.lower()==\"selesai\":\n",
        "    break\n",
        "  harga=float(input(f\"Masukkan harga barang: \"))\n",
        "  jumlah=int(input(f\"Masukkan jumlah barang: \"))\n",
        "  subtotal=harga*jumlah\n",
        "  total+=subtotal\n",
        "print(\"\\n==== Struk Belanja ====\")\n",
        "print(f\"Total Belanja: Rp {total}\")"
      ],
      "metadata": {
        "colab": {
          "base_uri": "https://localhost:8080/"
        },
        "id": "8hx7YtNiHyvA",
        "outputId": "772f3655-8ade-448e-9c6a-7b82df278b95"
      },
      "execution_count": 26,
      "outputs": [
        {
          "output_type": "stream",
          "name": "stdout",
          "text": [
            "Masukkan nama barang (ketik 'selesai' untuk berhenti): Buku\n",
            "Masukkan harga barang: 50000\n",
            "Masukkan jumlah barang: 2\n",
            "Masukkan nama barang (ketik 'selesai' untuk berhenti): Pulpen\n",
            "Masukkan harga barang: 5000\n",
            "Masukkan jumlah barang: 3\n",
            "Masukkan nama barang (ketik 'selesai' untuk berhenti): selesai\n",
            "\n",
            "==== Struk Belanja ====\n",
            "Total Belanja: Rp 115000.0\n"
          ]
        }
      ]
    }
  ]
}